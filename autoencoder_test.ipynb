{
  "nbformat": 4,
  "nbformat_minor": 0,
  "metadata": {
    "colab": {
      "name": "autoencoder_test.ipynb",
      "provenance": [],
      "collapsed_sections": [],
      "include_colab_link": true
    },
    "kernelspec": {
      "name": "python3",
      "display_name": "Python 3"
    },
    "language_info": {
      "name": "python"
    }
  },
  "cells": [
    {
      "cell_type": "markdown",
      "metadata": {
        "id": "view-in-github",
        "colab_type": "text"
      },
      "source": [
        "<a href=\"https://colab.research.google.com/github/erofale/encoderProject/blob/master/autoencoder_test.ipynb\" target=\"_parent\"><img src=\"https://colab.research.google.com/assets/colab-badge.svg\" alt=\"Open In Colab\"/></a>"
      ]
    },
    {
      "cell_type": "code",
      "metadata": {
        "id": "EbrKpGqLETrE"
      },
      "source": [
        "from keras.layers import Input, Dense, Flatten, Reshape\n",
        "from keras.layers import Conv2D, MaxPooling2D, UpSampling2D\n",
        "from keras.models import Model\n",
        "from keras.datasets import mnist\n",
        "import keras.backend as K\n",
        "from keras.layers import Lambda\n",
        "from keras.regularizers import L1L2\n",
        "import numpy as np\n",
        "import random\n",
        "\n",
        "(x_train, y_train), (x_test, y_test) = mnist.load_data()\n",
        "\n",
        "x_train = x_train.astype('float32') / 255.\n",
        "x_test  = x_test .astype('float32') / 255.\n",
        "x_train = np.reshape(x_train, (len(x_train), 28, 28, 1))\n",
        "x_test  = np.reshape(x_test,  (len(x_test),  28, 28, 1))"
      ],
      "execution_count": null,
      "outputs": []
    },
    {
      "cell_type": "code",
      "metadata": {
        "id": "rK053yZSEc5O"
      },
      "source": [
        "# Сжимающий автоэнкодер\n",
        "def create_dense_ae():\n",
        "    # Размерность кодированного представления\n",
        "    encoding_dim = 49\n",
        "\n",
        "    # Энкодер\n",
        "    # Входной плейсхолдер\n",
        "    input_img = Input(shape=(28, 28, 1)) # 28, 28, 1 - размерности строк, столбцов, фильтров одной картинки, без батч-размерности\n",
        "    # Вспомогательный слой решейпинга\n",
        "    flat_img = Flatten()(input_img)\n",
        "    # Кодированное полносвязным слоем представление\n",
        "    encoded = Dense(encoding_dim, activation='relu')(flat_img)\n",
        "    \n",
        "    # Декодер\n",
        "    # Раскодированное другим полносвязным слоем изображение\n",
        "    input_encoded = Input(shape=(encoding_dim,))\n",
        "    flat_decoded = Dense(28*28, activation='sigmoid')(input_encoded)\n",
        "    decoded = Reshape((28, 28, 1))(flat_decoded)\n",
        "\n",
        "    # Модели, в конструктор первым аргументом передаются входные слои, а вторым выходные слои\n",
        "    # Другие модели можно так же использовать как и слои\n",
        "    encoder = Model(input_img, encoded, name=\"encoder\")\n",
        "    decoder = Model(input_encoded, decoded, name=\"decoder\")\n",
        "    autoencoder = Model(input_img, decoder(encoder(input_img)), name=\"autoencoder\")\n",
        "    return encoder, decoder, autoencoder"
      ],
      "execution_count": null,
      "outputs": []
    },
    {
      "cell_type": "code",
      "metadata": {
        "id": "C1gqrFQYxxoi"
      },
      "source": [
        "# Глубокий автоэнкодер\n",
        "def create_deep_dense_ae():\n",
        "    # Размерность кодированного представления\n",
        "    encoding_dim = 49\n",
        "\n",
        "    # Энкодер\n",
        "    input_img = Input(shape=(28, 28, 1))\n",
        "    flat_img = Flatten()(input_img)\n",
        "    x = Dense(encoding_dim*3, activation='relu')(flat_img)\n",
        "    x = Dense(encoding_dim*2, activation='relu')(x)\n",
        "    encoded = Dense(encoding_dim, activation='linear')(x)\n",
        "    \n",
        "    # Декодер\n",
        "    input_encoded = Input(shape=(encoding_dim,))\n",
        "    x = Dense(encoding_dim*2, activation='relu')(input_encoded)\n",
        "    x = Dense(encoding_dim*3, activation='relu')(x)\n",
        "    flat_decoded = Dense(28*28, activation='sigmoid')(x)\n",
        "    decoded = Reshape((28, 28, 1))(flat_decoded)\n",
        "    \n",
        "    # Модели\n",
        "    encoder = Model(input_img, encoded, name=\"encoder\")\n",
        "    decoder = Model(input_encoded, decoded, name=\"decoder\")\n",
        "    autoencoder = Model(input_img, decoder(encoder(input_img)), name=\"autoencoder\")\n",
        "    return encoder, decoder, autoencoder"
      ],
      "execution_count": null,
      "outputs": []
    },
    {
      "cell_type": "code",
      "metadata": {
        "id": "fp1p2AqbErTT"
      },
      "source": [
        "# Сверточный автоэнкодер\n",
        "def create_deep_conv_ae():\n",
        "    input_img = Input(shape=(28, 28, 1))\n",
        "\n",
        "    x = Conv2D(128, (7, 7), activation='relu', padding='same')(input_img)\n",
        "    x = MaxPooling2D((2, 2), padding='same')(x)\n",
        "    x = Conv2D(32, (2, 2), activation='relu', padding='same')(x)\n",
        "    x = MaxPooling2D((2, 2), padding='same')(x)\n",
        "    encoded = Conv2D(1, (7, 7), activation='relu', padding='same')(x)\n",
        "\n",
        "    # На этом моменте представление  (7, 7, 1) т.е. 49-размерное\n",
        "\n",
        "    input_encoded = Input(shape=(7, 7, 1))\n",
        "    x = Conv2D(32, (7, 7), activation='relu', padding='same')(input_encoded)\n",
        "    x = UpSampling2D((2, 2))(x)\n",
        "    x = Conv2D(128, (2, 2), activation='relu', padding='same')(x)\n",
        "    x = UpSampling2D((2, 2))(x)\n",
        "    decoded = Conv2D(1, (7, 7), activation='sigmoid', padding='same')(x)\n",
        "\n",
        "    # Модели\n",
        "    encoder = Model(input_img, encoded, name=\"encoder\")\n",
        "    decoder = Model(input_encoded, decoded, name=\"decoder\")\n",
        "    autoencoder = Model(input_img, decoder(encoder(input_img)), name=\"autoencoder\")\n",
        "    return encoder, decoder, autoencoder"
      ],
      "execution_count": null,
      "outputs": []
    },
    {
      "cell_type": "code",
      "metadata": {
        "id": "bi1mbEjtE_5t"
      },
      "source": [
        "# Denoising модель (подавляющий шумы автоэнкодер)\n",
        "batch_size = 16\n",
        "\n",
        "def create_denoising_model(autoencoder):\n",
        "    def add_noise(x):\n",
        "        noise_factor = 0.5\n",
        "        x = x + K.random_normal(x.get_shape(), 0.5, noise_factor)\n",
        "        x = K.clip(x, 0., 1.)\n",
        "        return x\n",
        "\n",
        "    input_img  = Input(batch_shape=(batch_size, 28, 28, 1))\n",
        "    noised_img = Lambda(add_noise)(input_img)\n",
        "\n",
        "    noiser = Model(input_img, noised_img, name=\"noiser\")\n",
        "    denoiser_model = Model(input_img, autoencoder(noiser(input_img)), name=\"denoiser\")\n",
        "    return noiser, denoiser_model"
      ],
      "execution_count": null,
      "outputs": []
    },
    {
      "cell_type": "code",
      "metadata": {
        "id": "n4h7b3CVFj2B"
      },
      "source": [
        "# Разреженный (Sparse) автоэнкодер\n",
        "def create_sparse_ae():\n",
        "    encoding_dim = 16\n",
        "    lambda_l1 = 0.00001\n",
        "    \n",
        "    # Энкодер\n",
        "    input_img = Input(shape=(28, 28, 1))\n",
        "    flat_img = Flatten()(input_img)\n",
        "    x = Dense(encoding_dim*3, activation='relu')(flat_img)\n",
        "    x = Dense(encoding_dim*2, activation='relu')(x)\n",
        "    encoded = Dense(encoding_dim, activation='linear', activity_regularizer=L1L2(lambda_l1))(x)\n",
        "    \n",
        "    # Декодер\n",
        "    input_encoded = Input(shape=(encoding_dim,))\n",
        "    x = Dense(encoding_dim*2, activation='relu')(input_encoded)\n",
        "    x = Dense(encoding_dim*3, activation='relu')(x)\n",
        "    flat_decoded = Dense(28*28, activation='sigmoid')(x)\n",
        "    decoded = Reshape((28, 28, 1))(flat_decoded)\n",
        "    \n",
        "    # Модели\n",
        "    encoder = Model(input_img, encoded, name=\"encoder\")\n",
        "    decoder = Model(input_encoded, decoded, name=\"decoder\")\n",
        "    autoencoder = Model(input_img, decoder(encoder(input_img)), name=\"autoencoder\")\n",
        "    return encoder, decoder, autoencoder"
      ],
      "execution_count": null,
      "outputs": []
    },
    {
      "cell_type": "code",
      "metadata": {
        "id": "oSy0Q5ItybuI"
      },
      "source": [
        "import seaborn as sns\n",
        "import matplotlib.pyplot as plt\n",
        "\n",
        "# Отрисовка картинок \n",
        "def plot_digits(*args):\n",
        "    args = [x.squeeze() for x in args]\n",
        "    n = min([x.shape[0] for x in args])\n",
        "    \n",
        "    plt.figure(figsize=(2*n, 2*len(args)))\n",
        "    for j in range(n):\n",
        "        for i in range(len(args)):\n",
        "            ax = plt.subplot(len(args), n, i*n + j + 1)\n",
        "            plt.imshow(args[i][j])\n",
        "            plt.gray()\n",
        "            ax.get_xaxis().set_visible(False)\n",
        "            ax.get_yaxis().set_visible(False)\n",
        "\n",
        "    plt.show()"
      ],
      "execution_count": null,
      "outputs": []
    },
    {
      "cell_type": "code",
      "metadata": {
        "id": "f0k2zb5-HCiF"
      },
      "source": [
        "# Количество тестируемых картинок\n",
        "n = 10"
      ],
      "execution_count": null,
      "outputs": []
    },
    {
      "cell_type": "code",
      "metadata": {
        "colab": {
          "base_uri": "https://localhost:8080/"
        },
        "id": "Q8LxYA46FyHQ",
        "outputId": "0ee37e9f-035a-49fc-e0ed-d4d2980ff8af"
      },
      "source": [
        "# Сборка и обучение обычного автоэнкодера\n",
        "encoder, decoder, autoencoder = create_dense_ae()\n",
        "autoencoder.compile(optimizer='adam', loss='binary_crossentropy')\n",
        "\n",
        "autoencoder.fit(x_train, x_train,\n",
        "                epochs=50,\n",
        "                batch_size=256,\n",
        "                shuffle=True,\n",
        "                validation_data=(x_test, x_test))"
      ],
      "execution_count": null,
      "outputs": [
        {
          "output_type": "stream",
          "name": "stdout",
          "text": [
            "Epoch 1/50\n",
            "235/235 [==============================] - 4s 13ms/step - loss: 0.2565 - val_loss: 0.1706\n",
            "Epoch 2/50\n",
            "235/235 [==============================] - 3s 13ms/step - loss: 0.1528 - val_loss: 0.1359\n",
            "Epoch 3/50\n",
            "235/235 [==============================] - 3s 13ms/step - loss: 0.1274 - val_loss: 0.1176\n",
            "Epoch 4/50\n",
            "235/235 [==============================] - 3s 13ms/step - loss: 0.1125 - val_loss: 0.1054\n",
            "Epoch 5/50\n",
            "235/235 [==============================] - 3s 12ms/step - loss: 0.1025 - val_loss: 0.0974\n",
            "Epoch 6/50\n",
            "235/235 [==============================] - 3s 12ms/step - loss: 0.0956 - val_loss: 0.0918\n",
            "Epoch 7/50\n",
            "235/235 [==============================] - 3s 12ms/step - loss: 0.0908 - val_loss: 0.0877\n",
            "Epoch 8/50\n",
            "235/235 [==============================] - 3s 13ms/step - loss: 0.0873 - val_loss: 0.0850\n",
            "Epoch 9/50\n",
            "235/235 [==============================] - 3s 13ms/step - loss: 0.0848 - val_loss: 0.0829\n",
            "Epoch 10/50\n",
            "235/235 [==============================] - 3s 12ms/step - loss: 0.0832 - val_loss: 0.0816\n",
            "Epoch 11/50\n",
            "235/235 [==============================] - 3s 13ms/step - loss: 0.0821 - val_loss: 0.0808\n",
            "Epoch 12/50\n",
            "235/235 [==============================] - 3s 13ms/step - loss: 0.0813 - val_loss: 0.0802\n",
            "Epoch 13/50\n",
            "235/235 [==============================] - 3s 13ms/step - loss: 0.0808 - val_loss: 0.0798\n",
            "Epoch 14/50\n",
            "235/235 [==============================] - 3s 13ms/step - loss: 0.0805 - val_loss: 0.0794\n",
            "Epoch 15/50\n",
            "235/235 [==============================] - 3s 13ms/step - loss: 0.0802 - val_loss: 0.0792\n",
            "Epoch 16/50\n",
            "235/235 [==============================] - 3s 13ms/step - loss: 0.0800 - val_loss: 0.0791\n",
            "Epoch 17/50\n",
            "235/235 [==============================] - 3s 13ms/step - loss: 0.0798 - val_loss: 0.0789\n",
            "Epoch 18/50\n",
            "235/235 [==============================] - 3s 13ms/step - loss: 0.0796 - val_loss: 0.0788\n",
            "Epoch 19/50\n",
            "235/235 [==============================] - 3s 12ms/step - loss: 0.0795 - val_loss: 0.0787\n",
            "Epoch 20/50\n",
            "235/235 [==============================] - 3s 13ms/step - loss: 0.0794 - val_loss: 0.0786\n",
            "Epoch 21/50\n",
            "235/235 [==============================] - 3s 13ms/step - loss: 0.0793 - val_loss: 0.0785\n",
            "Epoch 22/50\n",
            "235/235 [==============================] - 3s 13ms/step - loss: 0.0792 - val_loss: 0.0784\n",
            "Epoch 23/50\n",
            "235/235 [==============================] - 3s 12ms/step - loss: 0.0791 - val_loss: 0.0783\n",
            "Epoch 24/50\n",
            "235/235 [==============================] - 3s 13ms/step - loss: 0.0791 - val_loss: 0.0783\n",
            "Epoch 25/50\n",
            "235/235 [==============================] - 3s 13ms/step - loss: 0.0790 - val_loss: 0.0782\n",
            "Epoch 26/50\n",
            "235/235 [==============================] - 3s 13ms/step - loss: 0.0789 - val_loss: 0.0783\n",
            "Epoch 27/50\n",
            "235/235 [==============================] - 3s 12ms/step - loss: 0.0789 - val_loss: 0.0782\n",
            "Epoch 28/50\n",
            "235/235 [==============================] - 3s 13ms/step - loss: 0.0789 - val_loss: 0.0782\n",
            "Epoch 29/50\n",
            "235/235 [==============================] - 3s 13ms/step - loss: 0.0788 - val_loss: 0.0781\n",
            "Epoch 30/50\n",
            "235/235 [==============================] - 3s 13ms/step - loss: 0.0788 - val_loss: 0.0780\n",
            "Epoch 31/50\n",
            "235/235 [==============================] - 3s 13ms/step - loss: 0.0787 - val_loss: 0.0780\n",
            "Epoch 32/50\n",
            "235/235 [==============================] - 3s 13ms/step - loss: 0.0787 - val_loss: 0.0780\n",
            "Epoch 33/50\n",
            "235/235 [==============================] - 3s 13ms/step - loss: 0.0787 - val_loss: 0.0780\n",
            "Epoch 34/50\n",
            "235/235 [==============================] - 3s 13ms/step - loss: 0.0787 - val_loss: 0.0780\n",
            "Epoch 35/50\n",
            "235/235 [==============================] - 3s 13ms/step - loss: 0.0786 - val_loss: 0.0780\n",
            "Epoch 36/50\n",
            "235/235 [==============================] - 3s 13ms/step - loss: 0.0786 - val_loss: 0.0779\n",
            "Epoch 37/50\n",
            "235/235 [==============================] - 3s 13ms/step - loss: 0.0786 - val_loss: 0.0779\n",
            "Epoch 38/50\n",
            "235/235 [==============================] - 3s 13ms/step - loss: 0.0786 - val_loss: 0.0778\n",
            "Epoch 39/50\n",
            "235/235 [==============================] - 3s 13ms/step - loss: 0.0786 - val_loss: 0.0778\n",
            "Epoch 40/50\n",
            "235/235 [==============================] - 3s 13ms/step - loss: 0.0785 - val_loss: 0.0779\n",
            "Epoch 41/50\n",
            "235/235 [==============================] - 3s 12ms/step - loss: 0.0785 - val_loss: 0.0778\n",
            "Epoch 42/50\n",
            "235/235 [==============================] - 3s 13ms/step - loss: 0.0785 - val_loss: 0.0779\n",
            "Epoch 43/50\n",
            "235/235 [==============================] - 3s 13ms/step - loss: 0.0785 - val_loss: 0.0778\n",
            "Epoch 44/50\n",
            "235/235 [==============================] - 3s 13ms/step - loss: 0.0785 - val_loss: 0.0778\n",
            "Epoch 45/50\n",
            "235/235 [==============================] - 3s 12ms/step - loss: 0.0785 - val_loss: 0.0778\n",
            "Epoch 46/50\n",
            "235/235 [==============================] - 3s 13ms/step - loss: 0.0785 - val_loss: 0.0778\n",
            "Epoch 47/50\n",
            "235/235 [==============================] - 3s 13ms/step - loss: 0.0785 - val_loss: 0.0779\n",
            "Epoch 48/50\n",
            "235/235 [==============================] - 3s 13ms/step - loss: 0.0784 - val_loss: 0.0778\n",
            "Epoch 49/50\n",
            "235/235 [==============================] - 3s 13ms/step - loss: 0.0784 - val_loss: 0.0778\n",
            "Epoch 50/50\n",
            "235/235 [==============================] - 3s 13ms/step - loss: 0.0785 - val_loss: 0.0778\n"
          ]
        },
        {
          "output_type": "execute_result",
          "data": {
            "text/plain": [
              "<keras.callbacks.History at 0x7fd8c78b2490>"
            ]
          },
          "metadata": {},
          "execution_count": 10
        }
      ]
    },
    {
      "cell_type": "code",
      "metadata": {
        "colab": {
          "base_uri": "https://localhost:8080/",
          "height": 245
        },
        "id": "i3mNi6WBHLJH",
        "outputId": "e81b6338-491d-4ebb-ca7f-67b700e5f5ab"
      },
      "source": [
        "# Отрисовка оригинальных и декодированных картинок\n",
        "r = random.randint(0, 10000 - n)\n",
        "imgs = x_test[r:r+n]\n",
        "encoded_imgs = encoder.predict(imgs, batch_size=n)\n",
        "decoded_imgs = decoder.predict(encoded_imgs, batch_size=n)\n",
        "\n",
        "plot_digits(imgs, decoded_imgs)"
      ],
      "execution_count": null,
      "outputs": [
        {
          "output_type": "display_data",
          "data": {
            "image/png": "[encoded data removed]",
            "text/plain": [
              "<Figure size 1440x288 with 20 Axes>"
            ]
          },
          "metadata": {
            "needs_background": "light"
          }
        }
      ]
    },
    {
      "cell_type": "code",
      "metadata": {
        "colab": {
          "base_uri": "https://localhost:8080/"
        },
        "id": "tY9oZwaUycq8",
        "outputId": "929bfde0-2be1-49a0-8167-32dc56877905"
      },
      "source": [
        "# Сборка и обучение глубокого автоэнкодера\n",
        "d_encoder, d_decoder, d_autoencoder = create_deep_dense_ae()\n",
        "d_autoencoder.compile(optimizer='adam', loss='binary_crossentropy')\n",
        "\n",
        "d_autoencoder.fit(x_train, x_train,\n",
        "                  epochs=100,\n",
        "                  batch_size=256,\n",
        "                  shuffle=True,\n",
        "                  validation_data=(x_test, x_test))"
      ],
      "execution_count": null,
      "outputs": [
        {
          "output_type": "stream",
          "name": "stdout",
          "text": [
            "Epoch 1/100\n",
            "235/235 [==============================] - 5s 19ms/step - loss: 0.2198 - val_loss: 0.1441\n",
            "Epoch 2/100\n",
            "235/235 [==============================] - 4s 18ms/step - loss: 0.1312 - val_loss: 0.1194\n",
            "Epoch 3/100\n",
            "235/235 [==============================] - 4s 18ms/step - loss: 0.1151 - val_loss: 0.1088\n",
            "Epoch 4/100\n",
            "235/235 [==============================] - 4s 18ms/step - loss: 0.1072 - val_loss: 0.1029\n",
            "Epoch 5/100\n",
            "235/235 [==============================] - 4s 18ms/step - loss: 0.1023 - val_loss: 0.0991\n",
            "Epoch 6/100\n",
            "235/235 [==============================] - 4s 18ms/step - loss: 0.0987 - val_loss: 0.0960\n",
            "Epoch 7/100\n",
            "235/235 [==============================] - 4s 18ms/step - loss: 0.0958 - val_loss: 0.0939\n",
            "Epoch 8/100\n",
            "235/235 [==============================] - 4s 18ms/step - loss: 0.0936 - val_loss: 0.0914\n",
            "Epoch 9/100\n",
            "235/235 [==============================] - 4s 18ms/step - loss: 0.0916 - val_loss: 0.0903\n",
            "Epoch 10/100\n",
            "235/235 [==============================] - 4s 18ms/step - loss: 0.0899 - val_loss: 0.0881\n",
            "Epoch 11/100\n",
            "235/235 [==============================] - 4s 18ms/step - loss: 0.0885 - val_loss: 0.0872\n",
            "Epoch 12/100\n",
            "235/235 [==============================] - 4s 18ms/step - loss: 0.0873 - val_loss: 0.0862\n",
            "Epoch 13/100\n",
            "235/235 [==============================] - 4s 18ms/step - loss: 0.0863 - val_loss: 0.0854\n",
            "Epoch 14/100\n",
            "235/235 [==============================] - 4s 18ms/step - loss: 0.0855 - val_loss: 0.0844\n",
            "Epoch 15/100\n",
            "235/235 [==============================] - 4s 18ms/step - loss: 0.0848 - val_loss: 0.0842\n",
            "Epoch 16/100\n",
            "235/235 [==============================] - 4s 18ms/step - loss: 0.0841 - val_loss: 0.0833\n",
            "Epoch 17/100\n",
            "235/235 [==============================] - 4s 18ms/step - loss: 0.0836 - val_loss: 0.0826\n",
            "Epoch 18/100\n",
            "235/235 [==============================] - 4s 18ms/step - loss: 0.0830 - val_loss: 0.0821\n",
            "Epoch 19/100\n",
            "235/235 [==============================] - 4s 18ms/step - loss: 0.0826 - val_loss: 0.0817\n",
            "Epoch 20/100\n",
            "235/235 [==============================] - 4s 18ms/step - loss: 0.0821 - val_loss: 0.0818\n",
            "Epoch 21/100\n",
            "235/235 [==============================] - 4s 18ms/step - loss: 0.0816 - val_loss: 0.0808\n",
            "Epoch 22/100\n",
            "235/235 [==============================] - 4s 18ms/step - loss: 0.0812 - val_loss: 0.0804\n",
            "Epoch 23/100\n",
            "235/235 [==============================] - 4s 18ms/step - loss: 0.0807 - val_loss: 0.0801\n",
            "Epoch 24/100\n",
            "235/235 [==============================] - 4s 18ms/step - loss: 0.0804 - val_loss: 0.0799\n",
            "Epoch 25/100\n",
            "235/235 [==============================] - 4s 18ms/step - loss: 0.0800 - val_loss: 0.0795\n",
            "Epoch 26/100\n",
            "235/235 [==============================] - 4s 18ms/step - loss: 0.0797 - val_loss: 0.0790\n",
            "Epoch 27/100\n",
            "235/235 [==============================] - 4s 18ms/step - loss: 0.0792 - val_loss: 0.0785\n",
            "Epoch 28/100\n",
            "235/235 [==============================] - 4s 18ms/step - loss: 0.0790 - val_loss: 0.0784\n",
            "Epoch 29/100\n",
            "235/235 [==============================] - 4s 18ms/step - loss: 0.0786 - val_loss: 0.0781\n",
            "Epoch 30/100\n",
            "235/235 [==============================] - 4s 18ms/step - loss: 0.0783 - val_loss: 0.0779\n",
            "Epoch 31/100\n",
            "235/235 [==============================] - 4s 18ms/step - loss: 0.0781 - val_loss: 0.0775\n",
            "Epoch 32/100\n",
            "235/235 [==============================] - 4s 18ms/step - loss: 0.0779 - val_loss: 0.0773\n",
            "Epoch 33/100\n",
            "235/235 [==============================] - 4s 18ms/step - loss: 0.0775 - val_loss: 0.0770\n",
            "Epoch 34/100\n",
            "235/235 [==============================] - 4s 18ms/step - loss: 0.0773 - val_loss: 0.0769\n",
            "Epoch 35/100\n",
            "235/235 [==============================] - 4s 18ms/step - loss: 0.0771 - val_loss: 0.0768\n",
            "Epoch 36/100\n",
            "235/235 [==============================] - 4s 18ms/step - loss: 0.0769 - val_loss: 0.0768\n",
            "Epoch 37/100\n",
            "235/235 [==============================] - 4s 18ms/step - loss: 0.0768 - val_loss: 0.0765\n",
            "Epoch 38/100\n",
            "235/235 [==============================] - 4s 18ms/step - loss: 0.0765 - val_loss: 0.0762\n",
            "Epoch 39/100\n",
            "235/235 [==============================] - 4s 18ms/step - loss: 0.0764 - val_loss: 0.0760\n",
            "Epoch 40/100\n",
            "235/235 [==============================] - 4s 18ms/step - loss: 0.0762 - val_loss: 0.0759\n",
            "Epoch 41/100\n",
            "235/235 [==============================] - 4s 18ms/step - loss: 0.0760 - val_loss: 0.0763\n",
            "Epoch 42/100\n",
            "235/235 [==============================] - 4s 18ms/step - loss: 0.0759 - val_loss: 0.0755\n",
            "Epoch 43/100\n",
            "235/235 [==============================] - 4s 18ms/step - loss: 0.0758 - val_loss: 0.0754\n",
            "Epoch 44/100\n",
            "235/235 [==============================] - 4s 18ms/step - loss: 0.0757 - val_loss: 0.0752\n",
            "Epoch 45/100\n",
            "235/235 [==============================] - 4s 18ms/step - loss: 0.0755 - val_loss: 0.0753\n",
            "Epoch 46/100\n",
            "235/235 [==============================] - 4s 18ms/step - loss: 0.0754 - val_loss: 0.0752\n",
            "Epoch 47/100\n",
            "235/235 [==============================] - 4s 18ms/step - loss: 0.0754 - val_loss: 0.0750\n",
            "Epoch 48/100\n",
            "235/235 [==============================] - 4s 18ms/step - loss: 0.0752 - val_loss: 0.0751\n",
            "Epoch 49/100\n",
            "235/235 [==============================] - 4s 18ms/step - loss: 0.0751 - val_loss: 0.0748\n",
            "Epoch 50/100\n",
            "235/235 [==============================] - 4s 18ms/step - loss: 0.0750 - val_loss: 0.0744\n",
            "Epoch 51/100\n",
            "235/235 [==============================] - 4s 19ms/step - loss: 0.0748 - val_loss: 0.0746\n",
            "Epoch 52/100\n",
            "235/235 [==============================] - 4s 19ms/step - loss: 0.0748 - val_loss: 0.0746\n",
            "Epoch 53/100\n",
            "235/235 [==============================] - 4s 18ms/step - loss: 0.0747 - val_loss: 0.0744\n",
            "Epoch 54/100\n",
            "235/235 [==============================] - 4s 18ms/step - loss: 0.0746 - val_loss: 0.0745\n",
            "Epoch 55/100\n",
            "235/235 [==============================] - 4s 18ms/step - loss: 0.0745 - val_loss: 0.0744\n",
            "Epoch 56/100\n",
            "235/235 [==============================] - 4s 18ms/step - loss: 0.0744 - val_loss: 0.0742\n",
            "Epoch 57/100\n",
            "235/235 [==============================] - 4s 18ms/step - loss: 0.0743 - val_loss: 0.0740\n",
            "Epoch 58/100\n",
            "235/235 [==============================] - 4s 18ms/step - loss: 0.0742 - val_loss: 0.0740\n",
            "Epoch 59/100\n",
            "235/235 [==============================] - 4s 18ms/step - loss: 0.0741 - val_loss: 0.0739\n",
            "Epoch 60/100\n",
            "235/235 [==============================] - 4s 18ms/step - loss: 0.0740 - val_loss: 0.0739\n",
            "Epoch 61/100\n",
            "235/235 [==============================] - 4s 18ms/step - loss: 0.0739 - val_loss: 0.0736\n",
            "Epoch 62/100\n",
            "235/235 [==============================] - 4s 18ms/step - loss: 0.0739 - val_loss: 0.0738\n",
            "Epoch 63/100\n",
            "235/235 [==============================] - 4s 18ms/step - loss: 0.0738 - val_loss: 0.0735\n",
            "Epoch 64/100\n",
            "235/235 [==============================] - 4s 18ms/step - loss: 0.0737 - val_loss: 0.0734\n",
            "Epoch 65/100\n",
            "235/235 [==============================] - 4s 18ms/step - loss: 0.0736 - val_loss: 0.0734\n",
            "Epoch 66/100\n",
            "235/235 [==============================] - 4s 18ms/step - loss: 0.0736 - val_loss: 0.0732\n",
            "Epoch 67/100\n",
            "235/235 [==============================] - 4s 18ms/step - loss: 0.0735 - val_loss: 0.0734\n",
            "Epoch 68/100\n",
            "235/235 [==============================] - 4s 18ms/step - loss: 0.0735 - val_loss: 0.0733\n",
            "Epoch 69/100\n",
            "235/235 [==============================] - 4s 18ms/step - loss: 0.0734 - val_loss: 0.0735\n",
            "Epoch 70/100\n",
            "235/235 [==============================] - 4s 18ms/step - loss: 0.0733 - val_loss: 0.0734\n",
            "Epoch 71/100\n",
            "235/235 [==============================] - 4s 18ms/step - loss: 0.0733 - val_loss: 0.0732\n",
            "Epoch 72/100\n",
            "235/235 [==============================] - 4s 18ms/step - loss: 0.0732 - val_loss: 0.0729\n",
            "Epoch 73/100\n",
            "235/235 [==============================] - 4s 19ms/step - loss: 0.0732 - val_loss: 0.0731\n",
            "Epoch 74/100\n",
            "235/235 [==============================] - 4s 19ms/step - loss: 0.0731 - val_loss: 0.0729\n",
            "Epoch 75/100\n",
            "235/235 [==============================] - 4s 19ms/step - loss: 0.0731 - val_loss: 0.0729\n",
            "Epoch 76/100\n",
            "235/235 [==============================] - 4s 18ms/step - loss: 0.0730 - val_loss: 0.0728\n",
            "Epoch 77/100\n",
            "235/235 [==============================] - 4s 18ms/step - loss: 0.0730 - val_loss: 0.0729\n",
            "Epoch 78/100\n",
            "235/235 [==============================] - 4s 19ms/step - loss: 0.0729 - val_loss: 0.0728\n",
            "Epoch 79/100\n",
            "235/235 [==============================] - 4s 19ms/step - loss: 0.0728 - val_loss: 0.0728\n",
            "Epoch 80/100\n",
            "235/235 [==============================] - 4s 18ms/step - loss: 0.0728 - val_loss: 0.0728\n",
            "Epoch 81/100\n",
            "235/235 [==============================] - 4s 18ms/step - loss: 0.0728 - val_loss: 0.0727\n",
            "Epoch 82/100\n",
            "235/235 [==============================] - 4s 19ms/step - loss: 0.0727 - val_loss: 0.0725\n",
            "Epoch 83/100\n",
            "235/235 [==============================] - 4s 19ms/step - loss: 0.0726 - val_loss: 0.0724\n",
            "Epoch 84/100\n",
            "235/235 [==============================] - 4s 18ms/step - loss: 0.0726 - val_loss: 0.0724\n",
            "Epoch 85/100\n",
            "235/235 [==============================] - 4s 19ms/step - loss: 0.0726 - val_loss: 0.0726\n",
            "Epoch 86/100\n",
            "235/235 [==============================] - 4s 18ms/step - loss: 0.0725 - val_loss: 0.0723\n",
            "Epoch 87/100\n",
            "235/235 [==============================] - 4s 19ms/step - loss: 0.0725 - val_loss: 0.0722\n",
            "Epoch 88/100\n",
            "235/235 [==============================] - 4s 18ms/step - loss: 0.0724 - val_loss: 0.0722\n",
            "Epoch 89/100\n",
            "235/235 [==============================] - 4s 18ms/step - loss: 0.0724 - val_loss: 0.0724\n",
            "Epoch 90/100\n",
            "235/235 [==============================] - 4s 19ms/step - loss: 0.0724 - val_loss: 0.0723\n",
            "Epoch 91/100\n",
            "235/235 [==============================] - 4s 19ms/step - loss: 0.0723 - val_loss: 0.0721\n",
            "Epoch 92/100\n",
            "235/235 [==============================] - 4s 18ms/step - loss: 0.0723 - val_loss: 0.0721\n",
            "Epoch 93/100\n",
            "235/235 [==============================] - 4s 18ms/step - loss: 0.0722 - val_loss: 0.0721\n",
            "Epoch 94/100\n",
            "235/235 [==============================] - 4s 18ms/step - loss: 0.0722 - val_loss: 0.0720\n",
            "Epoch 95/100\n",
            "235/235 [==============================] - 4s 18ms/step - loss: 0.0721 - val_loss: 0.0718\n",
            "Epoch 96/100\n",
            "235/235 [==============================] - 4s 18ms/step - loss: 0.0721 - val_loss: 0.0719\n",
            "Epoch 97/100\n",
            "235/235 [==============================] - 4s 19ms/step - loss: 0.0721 - val_loss: 0.0720\n",
            "Epoch 98/100\n",
            "235/235 [==============================] - 4s 18ms/step - loss: 0.0721 - val_loss: 0.0719\n",
            "Epoch 99/100\n",
            "235/235 [==============================] - 4s 18ms/step - loss: 0.0720 - val_loss: 0.0718\n",
            "Epoch 100/100\n",
            "235/235 [==============================] - 4s 19ms/step - loss: 0.0720 - val_loss: 0.0717\n"
          ]
        },
        {
          "output_type": "execute_result",
          "data": {
            "text/plain": [
              "<keras.callbacks.History at 0x7fd8c3688310>"
            ]
          },
          "metadata": {},
          "execution_count": 12
        }
      ]
    },
    {
      "cell_type": "code",
      "metadata": {
        "colab": {
          "base_uri": "https://localhost:8080/",
          "height": 245
        },
        "id": "AxnMMV_QzB3J",
        "outputId": "1369a99f-836e-4f62-c38b-ea29138957bd"
      },
      "source": [
        "# Отрисовка оригинальных и декодированных картинок\n",
        "r = random.randint(0, 10000 - n)\n",
        "imgs = x_test[r:r+n]\n",
        "encoded_imgs = d_encoder.predict(imgs, batch_size=n)\n",
        "\n",
        "decoded_imgs = d_decoder.predict(encoded_imgs, batch_size=n)\n",
        "\n",
        "plot_digits(imgs, decoded_imgs)"
      ],
      "execution_count": null,
      "outputs": [
        {
          "output_type": "display_data",
          "data": {
            "image/png": "[encoded data removed]",
            "text/plain": [
              "<Figure size 1440x288 with 20 Axes>"
            ]
          },
          "metadata": {
            "needs_background": "light"
          }
        }
      ]
    },
    {
      "cell_type": "code",
      "metadata": {
        "id": "-bo1IZ9HGxUx"
      },
      "source": [
        "# Сборка и обучение свёрточного автоэнкодера\n",
        "c_encoder, c_decoder, c_autoencoder = create_deep_conv_ae()\n",
        "c_autoencoder.compile(optimizer='adam', loss='binary_crossentropy')\n",
        "\n",
        "c_autoencoder.fit(x_train, x_train,\n",
        "                epochs=64,\n",
        "                batch_size=256,\n",
        "                shuffle=True,\n",
        "                validation_data=(x_test, x_test))"
      ],
      "execution_count": null,
      "outputs": []
    },
    {
      "cell_type": "code",
      "metadata": {
        "colab": {
          "base_uri": "https://localhost:8080/",
          "height": 235
        },
        "id": "Py17VJ4WHh1p",
        "outputId": "73de34ea-6124-4b0c-d888-0c4d7af65597"
      },
      "source": [
        "# Отрисовка оригинальных и декодированных картинок\n",
        "r = random.randint(0, 10000 - n)\n",
        "imgs = x_test[r:r+n]\n",
        "encoded_imgs = с_encoder.predict(imgs, batch_size=n)\n",
        "\n",
        "decoded_imgs = с_decoder.predict(encoded_imgs, batch_size=n)\n",
        "\n",
        "plot_digits(imgs, decoded_imgs)"
      ],
      "execution_count": null,
      "outputs": [
        {
          "output_type": "error",
          "ename": "NameError",
          "evalue": "ignored",
          "traceback": [
            "\u001b[0;31m---------------------------------------------------------------------------\u001b[0m",
            "\u001b[0;31mNameError\u001b[0m                                 Traceback (most recent call last)",
            "\u001b[0;32m<ipython-input-4-4baca274a7f0>\u001b[0m in \u001b[0;36m<module>\u001b[0;34m()\u001b[0m\n\u001b[1;32m      1\u001b[0m \u001b[0;31m# Отрисовка оригинальных и декодированных картинок\u001b[0m\u001b[0;34m\u001b[0m\u001b[0;34m\u001b[0m\u001b[0;34m\u001b[0m\u001b[0m\n\u001b[0;32m----> 2\u001b[0;31m \u001b[0mr\u001b[0m \u001b[0;34m=\u001b[0m \u001b[0mrandom\u001b[0m\u001b[0;34m.\u001b[0m\u001b[0mrandint\u001b[0m\u001b[0;34m(\u001b[0m\u001b[0;36m0\u001b[0m\u001b[0;34m,\u001b[0m \u001b[0;36m10000\u001b[0m \u001b[0;34m-\u001b[0m \u001b[0mn\u001b[0m\u001b[0;34m)\u001b[0m\u001b[0;34m\u001b[0m\u001b[0;34m\u001b[0m\u001b[0m\n\u001b[0m\u001b[1;32m      3\u001b[0m \u001b[0mimgs\u001b[0m \u001b[0;34m=\u001b[0m \u001b[0mx_test\u001b[0m\u001b[0;34m[\u001b[0m\u001b[0mr\u001b[0m\u001b[0;34m:\u001b[0m\u001b[0mr\u001b[0m\u001b[0;34m+\u001b[0m\u001b[0mn\u001b[0m\u001b[0;34m]\u001b[0m\u001b[0;34m\u001b[0m\u001b[0;34m\u001b[0m\u001b[0m\n\u001b[1;32m      4\u001b[0m \u001b[0mencoded_imgs\u001b[0m \u001b[0;34m=\u001b[0m \u001b[0mс_encoder\u001b[0m\u001b[0;34m.\u001b[0m\u001b[0mpredict\u001b[0m\u001b[0;34m(\u001b[0m\u001b[0mimgs\u001b[0m\u001b[0;34m,\u001b[0m \u001b[0mbatch_size\u001b[0m\u001b[0;34m=\u001b[0m\u001b[0mn\u001b[0m\u001b[0;34m)\u001b[0m\u001b[0;34m\u001b[0m\u001b[0;34m\u001b[0m\u001b[0m\n\u001b[1;32m      5\u001b[0m \u001b[0;34m\u001b[0m\u001b[0m\n",
            "\u001b[0;31mNameError\u001b[0m: name 'n' is not defined"
          ]
        }
      ]
    },
    {
      "cell_type": "code",
      "metadata": {
        "id": "hSHwdH8iy7iA"
      },
      "source": [
        "# Сборка и обучение модели с шумами\n",
        "noiser, denoiser_model = create_denoising_model(autoencoder)\n",
        "denoiser_model.compile(optimizer='adam', loss='binary_crossentropy')\n",
        "\n",
        "denoiser_model.fit(x_train, x_train,\n",
        "                   epochs=200,\n",
        "                   batch_size=batch_size,\n",
        "                   shuffle=True,\n",
        "                   validation_data=(x_test, x_test))"
      ],
      "execution_count": null,
      "outputs": []
    },
    {
      "cell_type": "code",
      "metadata": {
        "id": "IT3NpgHiHv2B"
      },
      "source": [
        "# Отрисовка оригинальных, зашумлённых и декодированных картинок\n",
        "r = random.randint(0, 10000 - n)\n",
        "imgs = x_test[r:r+n]\n",
        "noised_imgs = noiser.predict(imgs, batch_size=batch_size)\n",
        "encoded_imgs = encoder.predict(noised_imgs[r:r+n],  batch_size=n)\n",
        "decoded_imgs = decoder.predict(encoded_imgs[r:r+n], batch_size=n)\n",
        "\n",
        "plot_digits(imgs[r:r+n], noised_imgs, decoded_imgs)"
      ],
      "execution_count": null,
      "outputs": []
    },
    {
      "cell_type": "code",
      "metadata": {
        "id": "MaJGllhU84Vf"
      },
      "source": [
        "# Сборка и обучение разреженного автоэнкодера\n",
        "s_encoder, s_decoder, s_autoencoder = create_sparse_ae()\n",
        "s_autoencoder.compile(optimizer='adam', loss='binary_crossentropy')\n",
        "\n",
        "s_autoencoder.fit(x_train, x_train,\n",
        "                epochs=400,\n",
        "                batch_size=256,\n",
        "                shuffle=True,\n",
        "                validation_data=(x_test, x_test))"
      ],
      "execution_count": null,
      "outputs": []
    },
    {
      "cell_type": "code",
      "metadata": {
        "id": "TLovnCLqH5Ju"
      },
      "source": [
        "# Отрисовка оригинальных и декодированных картинок\n",
        "r = random.randint(0, 10000 - n)\n",
        "imgs = x_test[r:r+n]\n",
        "encoded_imgs = s_encoder.predict(imgs, batch_size=n)\n",
        "\n",
        "decoded_imgs = s_decoder.predict(encoded_imgs, batch_size=n)\n",
        "\n",
        "plot_digits(imgs, decoded_imgs)"
      ],
      "execution_count": null,
      "outputs": []
    }
  ]
}