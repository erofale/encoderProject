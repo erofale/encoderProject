{
  "nbformat": 4,
  "nbformat_minor": 0,
  "metadata": {
    "colab": {
      "name": "autoencoder_class.ipynb",
      "provenance": [],
      "collapsed_sections": [],
      "authorship_tag": "ABX9TyNZN/PaeenHuTx/HgUjH3Jc",
      "include_colab_link": true
    },
    "kernelspec": {
      "name": "python3",
      "display_name": "Python 3"
    },
    "language_info": {
      "name": "python"
    }
  },
  "cells": [
    {
      "cell_type": "markdown",
      "metadata": {
        "id": "view-in-github",
        "colab_type": "text"
      },
      "source": [
        "<a href=\"https://colab.research.google.com/github/erofale/encoderProject/blob/master/Code/autoencoder_class.ipynb\" target=\"_parent\"><img src=\"https://colab.research.google.com/assets/colab-badge.svg\" alt=\"Open In Colab\"/></a>"
      ]
    },
    {
      "cell_type": "code",
      "metadata": {
        "id": "4H3KOVUpIfl2"
      },
      "source": [
        "import tensorflow as tf\n",
        "from tensorflow import keras\n",
        "from keras.layers import Input, Dense, Flatten, Reshape\n",
        "from keras.layers import Conv2D, MaxPooling2D, UpSampling2D\n",
        "from keras.models import Model\n",
        "import keras.backend as K\n",
        "from keras.layers import Lambda\n",
        "from keras.regularizers import L1L2\n",
        "import numpy as np\n",
        "import random\n",
        "import pandas as pd\n",
        "from sklearn.metrics import mean_squared_error"
      ],
      "execution_count": null,
      "outputs": []
    },
    {
      "cell_type": "code",
      "metadata": {
        "id": "4zcVe8_EIkRG"
      },
      "source": [
        "def generator_test(func, file_name, n = 10000):\n",
        "  arr = []\n",
        "  for i in range(n):\n",
        "    x = random.uniform(0., 10000.)\n",
        "    arr.append([x, 5. - x, 0, 0])\n",
        "  df = pd.DataFrame(arr, columns=['x1', 'x2', 'x3', 'x4'])\n",
        "  df.to_csv('/content/sample_data/' + file_name)"
      ],
      "execution_count": null,
      "outputs": []
    },
    {
      "cell_type": "code",
      "metadata": {
        "id": "jodZM9YzIsGh"
      },
      "source": [
        "def func(x):\n",
        "  return x[0] + x[1]\n",
        "\n",
        "generator_test(func, 'lin.csv')\n",
        "data = pd.read_csv('/content/sample_data/lin.csv', index_col=0).to_numpy('float32')"
      ],
      "execution_count": null,
      "outputs": []
    },
    {
      "cell_type": "code",
      "metadata": {
        "id": "YZaF1ZSYIvbH"
      },
      "source": [
        "def normire(data, entry_min, entry_max):\n",
        "  entry_range = entry_max - entry_min\n",
        "  norm_data = [0.0 + (data[i] - entry_min) / entry_range for i in range(len(data))]\n",
        "  return norm_data\n",
        "\n",
        "def renormire(norm_data, entry_min, entry_max):\n",
        "  entry_range = entry_max - entry_min\n",
        "  data = [entry_min + (norm_data[i] - 0.0) * entry_range for i in range(len(norm_data))]\n",
        "  return data"
      ],
      "execution_count": null,
      "outputs": []
    },
    {
      "cell_type": "code",
      "metadata": {
        "id": "Zy7OGRjSIyAV"
      },
      "source": [
        "class AutoencoderClass():\n",
        "  def __init__(self, func, input_dim : int, encoding_dim : int, activations : list, enc_type : str):\n",
        "    self.func = func\n",
        "    self.input_dim = input_dim\n",
        "    self.encoding_dim = encoding_dim  # Размерность кодированного представления\n",
        "    self.activations = activations\n",
        "    #self.loss = loss\n",
        "    self.enc_type = enc_type\n",
        "    self.aes_types = {'dense': self.__create_dense_ae, 'deep':self.__create_deep_dense_ae, 'conv':self.__create_deep_conv_ae}\n",
        "    try:\n",
        "      self.autoencoder = self.aes_types[self.enc_type]()\n",
        "      self.autoencoder.compile(optimizer = 'adam', loss = self.custom_loss)\n",
        "    except KeyError as e:\n",
        "        # можно также присвоить значение по умолчанию вместо бросания исключения\n",
        "        raise ValueError('Undefined unit: {}'.format(e.args[0]))\n",
        "\n",
        "  def fit(self, train_data, test_data, epochs : int, batch_size : int, shuffle : bool):\n",
        "    if self.enc_type != 'conv':\n",
        "      self.autoencoder.fit(train_data, train_data,\n",
        "                  epochs=epochs,\n",
        "                  batch_size=batch_size,\n",
        "                  shuffle=shuffle,\n",
        "                  validation_data=(test_data, test_data))\n",
        "    \n",
        "    else:\n",
        "      grid_train = []\n",
        "      grid_test = []\n",
        "      for i in range(len(train_data)):\n",
        "        xx, yy = np.meshgrid(train_data[i], train_data[i])\n",
        "        grid_train.append(xx)\n",
        "\n",
        "      for i in range(len(test_data)):\n",
        "        xx, yy = np.meshgrid(test_data[i], test_data[i])\n",
        "        grid_test.append(xx)\n",
        "      \n",
        "      self.autoencoder.fit(grid_train, grid_train,\n",
        "            epochs=epochs,\n",
        "            batch_size=batch_size,\n",
        "            shuffle=shuffle,\n",
        "            validation_data=(grid_test, grid_test))\n",
        "\n",
        "  def predict(self, x_vector):\n",
        "    if self.enc_type != 'conv':\n",
        "      return self.autoencoder.predict(x_vector)\n",
        "    else:\n",
        "      return self.autoencoder.predict(x_vector)[0]\n",
        "\n",
        "\n",
        "  def get_aec_type(self):\n",
        "    return self.enc_type\n",
        "\n",
        "  def custom_loss(self, x_true, x_pred):\n",
        "    return K.mean(K.square(self.func(x_pred) - self.func(x_true)))\n",
        "\n",
        "  # Сжимающий автоэнкодер\n",
        "  def __create_dense_ae(self):\n",
        "    # Энкодер\n",
        "    # Входной плейсхолдер\n",
        "    input_data = Input(shape=(self.input_dim,))\n",
        "    # Кодированное полносвязным слоем представление\n",
        "    encoded = Dense(self.encoding_dim, activation = self.activations[0])(input_data)\n",
        "    \n",
        "    # Декодер\n",
        "    # Раскодированное другим полносвязным слоем изображение\n",
        "    input_encoded = Input(shape = (self.encoding_dim,))\n",
        "    decoded = Dense(self.input_dim, activation = self.activations[1])(input_encoded)\n",
        "\n",
        "    # Модели, в конструктор первым аргументом передаются входные слои, а вторым выходные слои\n",
        "    # Другие модели можно так же использовать как и слои\n",
        "    encoder = Model(input_data, encoded, name = \"encoder\")\n",
        "    decoder = Model(input_encoded, decoded, name = \"decoder\")\n",
        "    autoencoder = Model(input_data, decoder(encoder(input_data)), name = \"autoencoder\")\n",
        "    return autoencoder\n",
        "\n",
        "  # Глубокий автоэнкодер\n",
        "  def __create_deep_dense_ae(self):\n",
        "    # Энкодер\n",
        "    input_data = Input(shape=(self.input_dim,))\n",
        "    ############# Здесь фиксить надо с размерностями слоёв и как подавать активации на вход##########\n",
        "    x = Dense(self.encoding_dim*3, activation='relu')(input_data)\n",
        "    x = Dense(self.encoding_dim*2, activation='relu')(x)\n",
        "    encoded = Dense(self.encoding_dim, activation='linear')(x)\n",
        "    \n",
        "    # Декодер\n",
        "    input_encoded = Input(shape=(self.encoding_dim,))\n",
        "    ############# Здесь фиксить надо с размерностями слоёв ##########\n",
        "    x = Dense(self.encoding_dim*2, activation='relu')(input_encoded)\n",
        "    x = Dense(self.encoding_dim*3, activation='relu')(x)\n",
        "    decoded = Dense(self.input_dim, activation='sigmoid')(x)\n",
        "    \n",
        "    # Модели\n",
        "    encoder = Model(input_data, encoded, name=\"encoder\")\n",
        "    decoder = Model(input_encoded, decoded, name=\"decoder\")\n",
        "    autoencoder = Model(input_data, decoder(encoder(input_data)), name=\"autoencoder\")\n",
        "    return autoencoder\n",
        "\n",
        "  # Сверточный автоэнкодер\n",
        "  def __create_deep_conv_ae(self):\n",
        "    input_data = Input(shape=(self.input_dim, self.input_dim, 1))\n",
        "\n",
        "    x = Conv2D(25, (2, 2), activation='relu', padding='same')(input_data)\n",
        "    x = MaxPooling2D((2, 2), padding='same')(x)\n",
        "    #x = Conv2D(32, (2, 2), activation='relu', padding='same')(x)\n",
        "    #x = MaxPooling2D((2, 2), padding='same')(x)\n",
        "    encoded = Conv2D(1, (2, 2), activation='relu', padding='same')(x)\n",
        "\n",
        "    # На этом моменте представление  (7, 7, 1) т.е. 49-размерное\n",
        "\n",
        "    input_encoded = Input(shape=(7, 7, 1))\n",
        "    #x = Conv2D(32, (7, 7), activation='relu', padding='same')(input_encoded)\n",
        "    #x = UpSampling2D((2, 2))(x)\n",
        "    x = Conv2D(25, (2, 2), activation='relu', padding='same')(input_encoded)\n",
        "    x = UpSampling2D((2, 2))(x)\n",
        "    decoded = Conv2D(1, (2, 2), activation='sigmoid', padding='same')(x)\n",
        "\n",
        "    # Модели\n",
        "    encoder = Model(input_data, encoded, name=\"encoder\")\n",
        "    decoder = Model(input_encoded, decoded, name=\"decoder\")\n",
        "    autoencoder = Model(input_data, decoder(encoder(input_data)), name=\"autoencoder\")\n",
        "    return autoencoder"
      ],
      "execution_count": null,
      "outputs": []
    },
    {
      "cell_type": "code",
      "metadata": {
        "id": "J8siLzb6I39g"
      },
      "source": [
        "data = pd.read_csv('/content/sample_data/lin.csv', index_col=0).to_numpy('float32')\n",
        "entry_min = -10000.\n",
        "entry_max = 10000.\n",
        "norm_data = normire(data, entry_min, entry_max)\n",
        "data_train = np.array(norm_data[0:8000])\n",
        "data_test = np.array(norm_data[8000:10000])\n",
        "\n",
        "autoencoder = AutoencoderClass(func, 4, 2, list(['relu', 'sigmoid']), 'dense')"
      ],
      "execution_count": null,
      "outputs": []
    },
    {
      "cell_type": "code",
      "metadata": {
        "id": "OTwdH7sRI773"
      },
      "source": [
        "autoencoder.fit(data_train, data_test, 10, 256, True)"
      ],
      "execution_count": null,
      "outputs": []
    },
    {
      "cell_type": "code",
      "metadata": {
        "id": "A1SHBj8DI8gx"
      },
      "source": [
        "data_predict = []\n",
        "for i in range(10):\n",
        "  print(f'Orig: {data[i]}, Y: {data[i][0] + data[i][1]}')\n",
        "  pred = autoencoder.predict(data[i].reshape(1,3))\n",
        "  data_predict.append(renormire(pred[0].reshape(3,), -10000., 10000.))\n",
        "  print(f'Pred: {data_predict[i]}, Y: {data_predict[i][0] + data_predict[i][1]}\\n')\n",
        "\n",
        "print(mean_squared_error(data[0:10], data_predict))"
      ],
      "execution_count": null,
      "outputs": []
    }
  ]
}